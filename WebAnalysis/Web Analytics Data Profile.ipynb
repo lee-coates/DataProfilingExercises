{
 "cells": [
  {
   "cell_type": "markdown",
   "metadata": {},
   "source": [
    "# Web Analytics Data Profile Exercise\n",
    "This Data Profile Exercise focuses on training three key items:\n",
    "1. Data Profiling Website Page Data for a Fake City\n",
    "2. Leveraging the Python Stack\n",
    "3. Learning Markdown\n",
    "\n",
    "## Markdown\n",
    "Markdown is an important tool in any modern tech stack. Markdown is a text-to-HTML processor that allows users to write plain text that is automatically converted to HTML. This Jupyter Notebook Cell is written in Markdown, and when you hit the Run button, this \"plain\" text will become web-friendly HTML, which includes things like headers, hyperlinks, bulleted/numbered lists, code snippets, and much more.\n",
    "\n",
    "Markdown is a great documentation tool, because the Markdown Converter can live in an IDE, like Jupyter Notebook. By switching between Markdown Cells and Code Cells, Jupyter Notebooks allow programmers to easily communicate the motivations and functionality of their code. \n",
    "\n",
    "## TODO\n",
    "Use both Markdown Cells and Code Cells to complete this Exercise."
   ]
  },
  {
   "cell_type": "markdown",
   "metadata": {},
   "source": [
    "### Step 1 - Import Web Analytics Data and Print first 10 rows"
   ]
  },
  {
   "cell_type": "markdown",
   "metadata": {},
   "source": [
    "### Step 2 - Did you use Python's Built-In CSV Library or a Community Built Python Library? Explain your motivation."
   ]
  },
  {
   "cell_type": "markdown",
   "metadata": {},
   "source": [
    "### Step 3 - Use Pandas to list each column's Data Type"
   ]
  },
  {
   "cell_type": "markdown",
   "metadata": {},
   "source": [
    "### Step 4 - Sort the DataFrame by ID"
   ]
  },
  {
   "cell_type": "markdown",
   "metadata": {},
   "source": [
    "### Step 5 - Now sort the DataFrame by Date First Detected and Re-Index"
   ]
  },
  {
   "cell_type": "markdown",
   "metadata": {},
   "source": [
    "### Step 6 - Use the Pandas Describe Function to evaluate the Data Profile"
   ]
  },
  {
   "cell_type": "code",
   "execution_count": null,
   "metadata": {},
   "outputs": [],
   "source": []
  }
 ],
 "metadata": {
  "kernelspec": {
   "display_name": "Python 3",
   "language": "python",
   "name": "python3"
  },
  "language_info": {
   "codemirror_mode": {
    "name": "ipython",
    "version": 3
   },
   "file_extension": ".py",
   "mimetype": "text/x-python",
   "name": "python",
   "nbconvert_exporter": "python",
   "pygments_lexer": "ipython3",
   "version": "3.7.3"
  }
 },
 "nbformat": 4,
 "nbformat_minor": 2
}
